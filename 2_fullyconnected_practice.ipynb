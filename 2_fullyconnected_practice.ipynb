{
 "cells": [
  {
   "cell_type": "code",
   "execution_count": 11,
   "metadata": {
    "collapsed": true
   },
   "outputs": [],
   "source": [
    "import tensorflow as tf\n",
    "import numpy as np\n",
    "from __future__ import print_function\n",
    "from six.moves import cPickle as pickle\n",
    "from six.moves import range\n",
    "import time"
   ]
  },
  {
   "cell_type": "code",
   "execution_count": 5,
   "metadata": {
    "collapsed": false
   },
   "outputs": [
    {
     "name": "stdout",
     "output_type": "stream",
     "text": [
      "Training set (200000, 28, 28) (200000,)\n",
      "Validaition set (10000, 28, 28) (10000,)\n",
      "Test set (10000, 28, 28) (10000,)\n"
     ]
    }
   ],
   "source": [
    "pickle_file = 'notMNIST.pickle'\n",
    "\n",
    "with open(pickle_file, 'rb') as f:\n",
    "    save = pickle.load(f)\n",
    "    train_dataset = save['train_dataset']\n",
    "    train_labels = save['train_labels']\n",
    "    valid_dataset = save['valid_dataset']\n",
    "    valid_labels = save['valid_labels']\n",
    "    test_dataset = save['test_dataset']\n",
    "    test_labels = save['test_labels']\n",
    "    del save\n",
    "    print('Training set', train_dataset.shape, train_labels.shape)\n",
    "    print('Validaition set', valid_dataset.shape, valid_labels.shape)\n",
    "    print('Test set', test_dataset.shape, test_labels.shape)"
   ]
  },
  {
   "cell_type": "code",
   "execution_count": 6,
   "metadata": {
    "collapsed": false
   },
   "outputs": [
    {
     "name": "stdout",
     "output_type": "stream",
     "text": [
      "Training set (200000, 784) (200000, 10)\n",
      "Validation set (10000, 784) (10000, 10)\n",
      "Test set (10000, 784) (10000, 10)\n"
     ]
    }
   ],
   "source": [
    "image_size = 28\n",
    "num_labels = 10\n",
    "\n",
    "def reformat(dataset, labels):\n",
    "    dataset = dataset.reshape((-1, image_size*image_size)).astype(np.float32)\n",
    "    labels = (np.arange(num_labels) == labels[:,None]).astype(np.float32)\n",
    "    return dataset, labels\n",
    "\n",
    "train_dataset, train_labels = reformat(train_dataset, train_labels)\n",
    "valid_dataset, valid_labels = reformat(valid_dataset, valid_labels)\n",
    "test_dataset, test_labels = reformat(test_dataset, test_labels)\n",
    "print('Training set', train_dataset.shape, train_labels.shape)\n",
    "print('Validation set', valid_dataset.shape, valid_labels.shape)\n",
    "print('Test set', test_dataset.shape, test_labels.shape)"
   ]
  },
  {
   "cell_type": "markdown",
   "metadata": {},
   "source": [
    "#### training"
   ]
  },
  {
   "cell_type": "code",
   "execution_count": 16,
   "metadata": {
    "collapsed": false
   },
   "outputs": [],
   "source": [
    "train_subset = 10000\n",
    "\n",
    "graph = tf.Graph()\n",
    "with graph.as_default():\n",
    "    \n",
    "    #input data\n",
    "    tf_train_dataset = tf.constant(train_dataset[:train_subset, :])\n",
    "    tf_train_labels = tf.constant(train_labels[:train_subset])\n",
    "    tf_valid_dataset = tf.constant(valid_dataset)\n",
    "    tf_test_dataset = tf.constant(test_dataset)\n",
    "    \n",
    "    #variables\n",
    "    weights = tf.Variable(\n",
    "        tf.truncated_normal([image_size*image_size, num_labels])\n",
    "    )\n",
    "    biases = tf.Variable(tf.zeros([num_labels]))\n",
    "    \n",
    "    #training computation\n",
    "    logits = tf.matmul(tf_train_dataset, weights) + biases\n",
    "    loss = tf.reduce_mean(\n",
    "        tf.nn.softmax_cross_entropy_with_logits(logits, tf_train_labels)\n",
    "    )\n",
    "    \n",
    "    #optimizer\n",
    "    optimizer = tf.train.GradientDescentOptimizer(0.5).minimize(loss)\n",
    "    \n",
    "    train_prediction = tf.nn.softmax(logits)\n",
    "    valid_prediction = tf.nn.softmax(\n",
    "        tf.matmul(tf_valid_dataset, weights) + biases\n",
    "    )\n",
    "    test_prediction = tf.nn.softmax(\n",
    "        tf.matmul(tf_test_dataset, weights) + biases\n",
    "    )    "
   ]
  },
  {
   "cell_type": "markdown",
   "metadata": {},
   "source": [
    "#### computation & iteration"
   ]
  },
  {
   "cell_type": "code",
   "execution_count": 17,
   "metadata": {
    "collapsed": false
   },
   "outputs": [
    {
     "name": "stdout",
     "output_type": "stream",
     "text": [
      "initialized\n",
      "Loss at step 0: 15.498641\n",
      "Training accuracy: 8.0%\n",
      "Validation accuracy: 11.0%\n",
      "Loss at step 100: 2.327559\n",
      "Training accuracy: 72.0%\n",
      "Validation accuracy: 71.0%\n",
      "Loss at step 200: 1.859489\n",
      "Training accuracy: 75.0%\n",
      "Validation accuracy: 73.0%\n",
      "Loss at step 300: 1.608500\n",
      "Training accuracy: 76.0%\n",
      "Validation accuracy: 74.0%\n",
      "Loss at step 400: 1.441538\n",
      "Training accuracy: 77.0%\n",
      "Validation accuracy: 74.0%\n",
      "Loss at step 500: 1.317751\n",
      "Training accuracy: 78.0%\n",
      "Validation accuracy: 75.0%\n",
      "Loss at step 600: 1.220653\n",
      "Training accuracy: 78.0%\n",
      "Validation accuracy: 75.0%\n",
      "Loss at step 700: 1.141837\n",
      "Training accuracy: 79.0%\n",
      "Validation accuracy: 75.0%\n",
      "Loss at step 800: 1.076436\n",
      "Training accuracy: 79.0%\n",
      "Validation accuracy: 75.0%\n",
      "Test accuracy: 82.0%\n"
     ]
    },
    {
     "data": {
      "text/plain": [
       "110.03671500000002"
      ]
     },
     "execution_count": 17,
     "metadata": {},
     "output_type": "execute_result"
    }
   ],
   "source": [
    "num_steps = 801\n",
    "\n",
    "def accuracy(predictions, labels):\n",
    "    return (100*(np.sum(np.argmax(predictions, 1) == np.argmax(labels, 1)))\n",
    "        / predictions.shape[0])\n",
    "\n",
    "tic = time.clock()\n",
    "with tf.Session(graph = graph) as sess:\n",
    "    tf.initialize_all_variables().run()\n",
    "    print('initialized')\n",
    "    for step in range(num_steps):\n",
    "        _, loss_value, predictions = sess.run(\n",
    "            [optimizer, loss, train_prediction])\n",
    "    \n",
    "        if(step % 100 == 0):\n",
    "            print('Loss at step %d: %f' % (step, loss_value))\n",
    "            print('Training accuracy: %.1f%%' % accuracy(\n",
    "                predictions, train_labels[:train_subset, :]))\n",
    "            print('Validation accuracy: %.1f%%' % accuracy(\n",
    "                valid_prediction.eval(), valid_labels))\n",
    "    print('Test accuracy: %.1f%%' % accuracy(\n",
    "                test_prediction.eval(), test_labels))\n",
    "toc = time.clock()\n",
    "toc-tic"
   ]
  },
  {
   "cell_type": "markdown",
   "metadata": {},
   "source": [
    "#### SGD"
   ]
  },
  {
   "cell_type": "code",
   "execution_count": 28,
   "metadata": {
    "collapsed": true
   },
   "outputs": [],
   "source": [
    "batch_size = 128\n",
    "\n",
    "graph = tf.Graph()\n",
    "with graph.as_default():\n",
    "    \n",
    "    # mini-batch => placeholder\n",
    "    \n",
    "    tf_train_dataset = tf.placeholder(tf.float32,\n",
    "                                     shape = (batch_size, image_size**2))\n",
    "    tf_train_labels = tf.placeholder(tf.float32,\n",
    "                                    shape = (batch_size, num_labels))\n",
    "    tf_valid_dataset = tf.constant(valid_dataset)\n",
    "    tf_test_dataset = tf.constant(test_dataset)\n",
    "    \n",
    "    # Variables\n",
    "    weights = tf.Variable(\n",
    "        tf.truncated_normal([image_size**2, num_labels]))\n",
    "    biases = tf.Variable(tf.zeros([num_labels]))\n",
    "    \n",
    "    # Training\n",
    "    logits = tf.matmul(tf_train_dataset, weights) + biases\n",
    "    loss = tf.reduce_mean(\n",
    "        tf.nn.softmax_cross_entropy_with_logits(logits, tf_train_labels))\n",
    "    \n",
    "    # Optimizer\n",
    "    optimizer = tf.train.GradientDescentOptimizer(0.5).minimize(loss)\n",
    "    \n",
    "    train_prediction = tf.nn.softmax(logits)\n",
    "    valid_prediction = tf.nn.softmax(\n",
    "        tf.matmul(tf_valid_dataset, weights) + biases)\n",
    "    test_prediction = tf.nn.softmax(\n",
    "        tf.matmul(tf_test_dataset, weights) + biases)"
   ]
  },
  {
   "cell_type": "code",
   "execution_count": 29,
   "metadata": {
    "collapsed": false
   },
   "outputs": [
    {
     "name": "stdout",
     "output_type": "stream",
     "text": [
      "initialized\n",
      "Minibatch loss at step 0: 19.215664\n",
      "Miniibatch accruacy: 7.0%\n",
      "Validation accuracy: 11.0%\n",
      "Minibatch loss at step 500: 1.904208\n",
      "Miniibatch accruacy: 68.0%\n",
      "Validation accuracy: 75.0%\n",
      "Minibatch loss at step 1000: 1.314883\n",
      "Miniibatch accruacy: 75.0%\n",
      "Validation accuracy: 77.0%\n",
      "Minibatch loss at step 1500: 1.553318\n",
      "Miniibatch accruacy: 73.0%\n",
      "Validation accuracy: 77.0%\n",
      "Minibatch loss at step 2000: 1.146971\n",
      "Miniibatch accruacy: 75.0%\n",
      "Validation accuracy: 77.0%\n",
      "Minibatch loss at step 2500: 1.112160\n",
      "Miniibatch accruacy: 72.0%\n",
      "Validation accuracy: 78.0%\n",
      "Minibatch loss at step 3000: 0.714170\n",
      "Miniibatch accruacy: 83.0%\n",
      "Validation accuracy: 78.0%\n",
      "Test accuracy: 85.0%\n"
     ]
    },
    {
     "data": {
      "text/plain": [
       "10.217679999999973"
      ]
     },
     "execution_count": 29,
     "metadata": {},
     "output_type": "execute_result"
    }
   ],
   "source": [
    "num_steps = 3001\n",
    "\n",
    "tic = time.clock()\n",
    "\n",
    "with tf.Session(graph = graph) as sess:\n",
    "    tf.initialize_all_variables().run()\n",
    "    print('initialized')\n",
    "    for step in range (num_steps):\n",
    "        offset = (step * batch_size) % (train_labels.shape[0] - batch_size)\n",
    "        \n",
    "        batch_data = train_dataset[offset:(offset + batch_size), :]\n",
    "        batch_labels = train_labels[offset:(offset + batch_size), :]\n",
    "        \n",
    "        feed_dict = {tf_train_dataset : batch_data,\n",
    "                    tf_train_labels : batch_labels}\n",
    "        \n",
    "        _, loss_value, predictions = sess.run(\n",
    "            [optimizer, loss, train_prediction], feed_dict = feed_dict)\n",
    "        if (step % 500 == 0):\n",
    "            print('Minibatch loss at step %d: %f' % (step, loss_value))\n",
    "            print('Miniibatch accruacy: %.1f%%' % accuracy(\n",
    "                    predictions, batch_labels))\n",
    "            print('Validation accuracy: %.1f%%' % accuracy(\n",
    "                    valid_prediction.eval(), valid_labels))\n",
    "    print('Test accuracy: %.1f%%' % accuracy(\n",
    "        test_prediction.eval(), test_labels))\n",
    "\n",
    "toc = time.clock()\n",
    "toc-tic"
   ]
  },
  {
   "cell_type": "markdown",
   "metadata": {},
   "source": [
    "#### SGD + ReLu"
   ]
  },
  {
   "cell_type": "code",
   "execution_count": 33,
   "metadata": {
    "collapsed": false
   },
   "outputs": [],
   "source": [
    "batch_size = 128\n",
    "num_hidden = 1024\n",
    "\n",
    "graph = tf.Graph()\n",
    "with graph.as_default():\n",
    "    \n",
    "    # mini-batch => placeholder\n",
    "    \n",
    "    tf_train_dataset = tf.placeholder(tf.float32,\n",
    "                                     shape = (batch_size, image_size**2))\n",
    "    tf_train_labels = tf.placeholder(tf.float32,\n",
    "                                    shape = (batch_size, num_labels))\n",
    "    tf_valid_dataset = tf.constant(valid_dataset)\n",
    "    tf_test_dataset = tf.constant(test_dataset)\n",
    "    \n",
    "    # Variables\n",
    "    weights_1 = tf.Variable(\n",
    "        tf.truncated_normal([image_size**2, num_hidden]))\n",
    "    biases_1 = tf.Variable(tf.zeros([num_hidden]))\n",
    "    weights_2 = tf.Variable(\n",
    "         tf.truncated_normal([num_hidden, num_labels]))\n",
    "    biases_2 = tf.Variable(tf.zeros([num_labels]))\n",
    "    \n",
    "    # Training\n",
    "    logits_1 = tf.nn.relu(\n",
    "        tf.matmul(tf_train_dataset, weights_1) + biases_1\n",
    "    )\n",
    "    logits_2 = tf.matmul(logits_1, weights_2) + biases_2\n",
    "    loss = tf.reduce_mean(\n",
    "        tf.nn.softmax_cross_entropy_with_logits(\n",
    "            logits_2, tf_train_labels\n",
    "        )\n",
    "    )\n",
    "    \n",
    "    # Optimizer\n",
    "    optimizer = tf.train.GradientDescentOptimizer(0.5).minimize(loss)\n",
    "    \n",
    "    train_prediction = tf.nn.softmax(logits_2)\n",
    "    valid_prediction = tf.nn.softmax(\n",
    "        tf.matmul(\n",
    "            tf.nn.relu(\n",
    "                tf.matmul(tf_valid_dataset, weights_1) + biases_1)\n",
    "            ,weights_2)\n",
    "        + biases_2\n",
    "    )\n",
    "    test_prediction = tf.nn.softmax(\n",
    "        tf.matmul(\n",
    "            tf.nn.relu(\n",
    "                tf.matmul(tf_test_dataset, weights_1) + biases_1)\n",
    "            ,weights_2)\n",
    "        + biases_2\n",
    "    )"
   ]
  },
  {
   "cell_type": "code",
   "execution_count": 34,
   "metadata": {
    "collapsed": false
   },
   "outputs": [
    {
     "name": "stdout",
     "output_type": "stream",
     "text": [
      "initialized\n",
      "Minibatch loss at step 0: 336.081604\n",
      "Miniibatch accruacy: 17.0%\n",
      "Validation accuracy: 37.0%\n",
      "Minibatch loss at step 500: 11.417870\n",
      "Miniibatch accruacy: 75.0%\n",
      "Validation accuracy: 80.0%\n",
      "Minibatch loss at step 1000: 10.953521\n",
      "Miniibatch accruacy: 75.0%\n",
      "Validation accuracy: 76.0%\n",
      "Minibatch loss at step 1500: 5.983901\n",
      "Miniibatch accruacy: 77.0%\n",
      "Validation accuracy: 76.0%\n",
      "Minibatch loss at step 2000: 3.116799\n",
      "Miniibatch accruacy: 87.0%\n",
      "Validation accuracy: 81.0%\n",
      "Minibatch loss at step 2500: 5.189484\n",
      "Miniibatch accruacy: 82.0%\n",
      "Validation accuracy: 81.0%\n",
      "Minibatch loss at step 3000: 3.278154\n",
      "Miniibatch accruacy: 81.0%\n",
      "Validation accuracy: 81.0%\n",
      "Test accuracy: 88.0%\n"
     ]
    },
    {
     "data": {
      "text/plain": [
       "231.76974699999994"
      ]
     },
     "execution_count": 34,
     "metadata": {},
     "output_type": "execute_result"
    }
   ],
   "source": [
    "num_steps = 3001\n",
    "\n",
    "tic = time.clock()\n",
    "\n",
    "with tf.Session(graph = graph) as sess:\n",
    "    tf.initialize_all_variables().run()\n",
    "    print('initialized')\n",
    "    for step in range (num_steps):\n",
    "        offset = (step * batch_size) % (train_labels.shape[0] - batch_size)\n",
    "        \n",
    "        batch_data = train_dataset[offset:(offset + batch_size), :]\n",
    "        batch_labels = train_labels[offset:(offset + batch_size), :]\n",
    "        \n",
    "        feed_dict = {tf_train_dataset : batch_data,\n",
    "                    tf_train_labels : batch_labels}\n",
    "        \n",
    "        _, loss_value, predictions = sess.run(\n",
    "            [optimizer, loss, train_prediction], feed_dict = feed_dict)\n",
    "        if (step % 500 == 0):\n",
    "            print('Minibatch loss at step %d: %f' % (step, loss_value))\n",
    "            print('Miniibatch accruacy: %.1f%%' % accuracy(\n",
    "                    predictions, batch_labels))\n",
    "            print('Validation accuracy: %.1f%%' % accuracy(\n",
    "                    valid_prediction.eval(), valid_labels))\n",
    "    print('Test accuracy: %.1f%%' % accuracy(\n",
    "        test_prediction.eval(), test_labels))\n",
    "\n",
    "toc = time.clock()\n",
    "toc-tic"
   ]
  }
 ],
 "metadata": {
  "kernelspec": {
   "display_name": "Python 2",
   "language": "python",
   "name": "python2"
  },
  "language_info": {
   "codemirror_mode": {
    "name": "ipython",
    "version": 2
   },
   "file_extension": ".py",
   "mimetype": "text/x-python",
   "name": "python",
   "nbconvert_exporter": "python",
   "pygments_lexer": "ipython2",
   "version": "2.7.6"
  }
 },
 "nbformat": 4,
 "nbformat_minor": 0
}
